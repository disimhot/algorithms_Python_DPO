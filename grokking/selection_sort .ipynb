{
 "cells": [
  {
   "cell_type": "code",
   "execution_count": 2,
   "id": "62401e13",
   "metadata": {},
   "outputs": [
    {
     "name": "stdout",
     "output_type": "stream",
     "text": [
      "[2, 3, 5, 6, 10]\n",
      "[0, 1, 1000]\n",
      "[-2, -1, 1]\n"
     ]
    }
   ],
   "source": [
    "# сложность сортировки выбором O(n2)\n",
    "def find_smallest(arr):\n",
    "    i_sm = 0\n",
    "    elem_sm = arr[i_sm]\n",
    "    for i in range(len(arr)):\n",
    "        if elem_sm > arr[i]:\n",
    "                i_sm = i\n",
    "                elem_sm = arr[i]\n",
    "    return i_sm\n",
    "\n",
    "def selection_sort(arr):\n",
    "    new_arr = []\n",
    "    for i in range(len(arr)):\n",
    "        smallest_index = find_smallest(arr)\n",
    "        new_arr.append(arr.pop(smallest_index))\n",
    "    return new_arr\n",
    "\n",
    "print(selection_sort([5, 3, 6, 2, 10]))\n",
    "print(selection_sort([0, 1000, 1]))\n",
    "print(selection_sort([-1, -2, 1]))"
   ]
  },
  {
   "cell_type": "code",
   "execution_count": null,
   "id": "46b564db",
   "metadata": {},
   "outputs": [],
   "source": []
  }
 ],
 "metadata": {
  "kernelspec": {
   "display_name": "Python 3",
   "language": "python",
   "name": "python3"
  },
  "language_info": {
   "codemirror_mode": {
    "name": "ipython",
    "version": 3
   },
   "file_extension": ".py",
   "mimetype": "text/x-python",
   "name": "python",
   "nbconvert_exporter": "python",
   "pygments_lexer": "ipython3",
   "version": "3.8.8"
  }
 },
 "nbformat": 4,
 "nbformat_minor": 5
}
