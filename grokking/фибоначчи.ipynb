{
 "cells": [
  {
   "cell_type": "code",
   "execution_count": 10,
   "id": "db02b9a6",
   "metadata": {},
   "outputs": [
    {
     "name": "stdout",
     "output_type": "stream",
     "text": [
      "6\n",
      "\n",
      "[0, 0, 1, 0, 0, 0, 0]\n",
      "[0, 0, 1, 2, 0, 0, 0]\n",
      "[0, 0, 1, 2, 3, 0, 0]\n",
      "[0, 0, 1, 2, 3, 5, 0]\n",
      "[0, 0, 1, 2, 3, 5, 8]\n",
      "8\n"
     ]
    }
   ],
   "source": [
    "# f(n) = f(n-1) + f(n-2)\n",
    "# n 0,1 ...\n",
    "# f(n-1) = f(n-2) + f(n-3)\n",
    "\n",
    "number = int(input())\n",
    "memo = [0] * (number+1)\n",
    "\n",
    "def fibonacci(n):\n",
    "    if n <= 0:\n",
    "        return 0\n",
    "    if n == 1:\n",
    "        return 1\n",
    "    if memo[n] > 0:\n",
    "        return memo[n]\n",
    "    else:\n",
    "        memo[n] = fibonacci(n-1) + fibonacci(n-2)\n",
    "    print(memo)\n",
    "    return memo[n]\n",
    "\n",
    "print()\n",
    "print(fibonacci(number))        \n"
   ]
  },
  {
   "cell_type": "code",
   "execution_count": 9,
   "id": "2a4e31fe",
   "metadata": {},
   "outputs": [
    {
     "name": "stdout",
     "output_type": "stream",
     "text": [
      "6\n",
      "\n",
      "1\n",
      "2\n",
      "1\n",
      "1\n",
      "3\n",
      "1\n",
      "2\n",
      "1\n",
      "1\n",
      "1\n",
      "2\n",
      "1\n",
      "5\n",
      "1\n",
      "2\n",
      "1\n",
      "1\n",
      "3\n",
      "1\n",
      "2\n",
      "1\n",
      "1\n",
      "1\n",
      "2\n",
      "1\n",
      "1\n",
      "2\n",
      "1\n",
      "1\n",
      "3\n",
      "1\n",
      "2\n",
      "1\n",
      "1\n",
      "8\n",
      "1\n",
      "2\n",
      "1\n",
      "1\n",
      "3\n",
      "1\n",
      "2\n",
      "1\n",
      "1\n",
      "1\n",
      "2\n",
      "1\n",
      "5\n",
      "1\n",
      "2\n",
      "1\n",
      "1\n",
      "3\n",
      "1\n",
      "2\n",
      "1\n",
      "1\n",
      "1\n",
      "2\n",
      "1\n",
      "1\n",
      "2\n",
      "1\n",
      "1\n",
      "3\n",
      "1\n",
      "2\n",
      "1\n",
      "1\n",
      "8\n"
     ]
    }
   ],
   "source": [
    "number = int(input())\n",
    "\n",
    "def fibonacci(n):\n",
    "    if n <= 0:\n",
    "        return 0\n",
    "    if n == 1:\n",
    "        return 1\n",
    "    print(fibonacci(n-1) + fibonacci(n-2))\n",
    "    return fibonacci(n-1) + fibonacci(n-2)\n",
    "\n",
    "print()\n",
    "print(fibonacci(number)) "
   ]
  },
  {
   "cell_type": "code",
   "execution_count": null,
   "id": "b2cf362d",
   "metadata": {},
   "outputs": [],
   "source": []
  }
 ],
 "metadata": {
  "kernelspec": {
   "display_name": "Python 3",
   "language": "python",
   "name": "python3"
  },
  "language_info": {
   "codemirror_mode": {
    "name": "ipython",
    "version": 3
   },
   "file_extension": ".py",
   "mimetype": "text/x-python",
   "name": "python",
   "nbconvert_exporter": "python",
   "pygments_lexer": "ipython3",
   "version": "3.8.8"
  }
 },
 "nbformat": 4,
 "nbformat_minor": 5
}
