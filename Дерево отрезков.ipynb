{
 "cells": [
  {
   "cell_type": "code",
   "execution_count": 13,
   "id": "a2b9b3e8",
   "metadata": {},
   "outputs": [
    {
     "name": "stdout",
     "output_type": "stream",
     "text": [
      "7 3\n",
      "1 3 2 4 5 3 1\n",
      "[1, 3, 2]\n",
      "[3, 2, 4]\n",
      "[2, 4, 5]\n",
      "[4, 5, 3]\n",
      "[5, 3, 1]\n"
     ]
    }
   ],
   "source": [
    "n, k = [int(x) for x in input().split()]\n",
    "seq = [int(x) for x in input().split()]\n",
    "\n",
    "class Tree:\n",
    "    def __init__(self, sequence):\n",
    "        self.list = sequence\n",
    "\n",
    "    def getMin(self, interval):\n",
    "        pass\n",
    "\n",
    "my_tree = Tree(seq)\n",
    "\n",
    "for i in range(n-2):\n",
    "    print(my_tree.getMin(seq[i:i + 3]))"
   ]
  },
  {
   "cell_type": "code",
   "execution_count": null,
   "id": "b5c72cb1",
   "metadata": {},
   "outputs": [],
   "source": [
    "7 3\n",
    "1 3 2 4 5 3 1\n"
   ]
  }
 ],
 "metadata": {
  "kernelspec": {
   "display_name": "Python 3",
   "language": "python",
   "name": "python3"
  },
  "language_info": {
   "codemirror_mode": {
    "name": "ipython",
    "version": 3
   },
   "file_extension": ".py",
   "mimetype": "text/x-python",
   "name": "python",
   "nbconvert_exporter": "python",
   "pygments_lexer": "ipython3",
   "version": "3.8.8"
  }
 },
 "nbformat": 4,
 "nbformat_minor": 5
}
