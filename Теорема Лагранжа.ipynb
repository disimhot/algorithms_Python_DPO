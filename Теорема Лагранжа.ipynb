{
 "cells": [
  {
   "cell_type": "code",
   "execution_count": 27,
   "id": "1290e32a",
   "metadata": {},
   "outputs": [
    {
     "name": "stdout",
     "output_type": "stream",
     "text": [
      "0\n"
     ]
    }
   ],
   "source": [
    "from math import sqrt\n",
    "number = int(input())\n",
    "\n",
    "def lagrangeFourSquare(n):\n",
    "    if n == 0:\n",
    "        return [0]\n",
    "    a = int(sqrt(n)) + 1\n",
    "    for i in range (a):\n",
    "        for j in range (a):\n",
    "            for k in range (a):\n",
    "                for l in range (a):\n",
    "                    if i*i + j*j + k*k +l*l == n:\n",
    "                        return [i, j, k, l]\n",
    "\n",
    "res = lagrangeFourSquare(number)\n",
    "for res_n in res:\n",
    "    if res_n != 0:\n",
    "        print (res_n,  end=' ')"
   ]
  },
  {
   "cell_type": "code",
   "execution_count": 13,
   "id": "0c302d6f",
   "metadata": {},
   "outputs": [
    {
     "name": "stdout",
     "output_type": "stream",
     "text": [
      "0\n",
      "1\n",
      "2\n",
      "3\n",
      "4\n",
      "5\n",
      "6\n",
      "7\n",
      "8\n",
      "9\n"
     ]
    }
   ],
   "source": [
    "for i in range (10):\n",
    "    print(i)"
   ]
  }
 ],
 "metadata": {
  "kernelspec": {
   "display_name": "Python 3",
   "language": "python",
   "name": "python3"
  },
  "language_info": {
   "codemirror_mode": {
    "name": "ipython",
    "version": 3
   },
   "file_extension": ".py",
   "mimetype": "text/x-python",
   "name": "python",
   "nbconvert_exporter": "python",
   "pygments_lexer": "ipython3",
   "version": "3.8.8"
  }
 },
 "nbformat": 4,
 "nbformat_minor": 5
}
