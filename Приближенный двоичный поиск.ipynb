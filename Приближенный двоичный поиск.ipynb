{
 "cells": [
  {
   "cell_type": "code",
   "execution_count": 22,
   "id": "ca4c0f7f",
   "metadata": {
    "scrolled": true
   },
   "outputs": [
    {
     "name": "stdout",
     "output_type": "stream",
     "text": [
      "10 10\n",
      "-5 1 1 3 5 5 8 12 13 16\n",
      "0 3 7 -17 23 11 0 11 15 7\n",
      "low 0\n",
      "high 0\n",
      "-5\n",
      "low 2\n",
      "high 3\n",
      "3\n",
      "low 5\n",
      "high 6\n",
      "8\n",
      "low 0\n",
      "high 0\n",
      "-5\n",
      "low 8\n",
      "high 9\n",
      "16\n",
      "low 5\n",
      "high 6\n",
      "8\n",
      "low 0\n",
      "high 0\n",
      "-5\n",
      "low 5\n",
      "high 6\n",
      "8\n",
      "low 8\n",
      "high 9\n",
      "16\n",
      "low 5\n",
      "high 6\n",
      "8\n"
     ]
    }
   ],
   "source": [
    "a, b = [int(x) for x in input().split()]\n",
    "arr = [int(x) for x in input().split()]\n",
    "numbers = [int(x) for x in input().split()]\n",
    "\n",
    "# arr = [10, 10, 10, 10, 10, 10, 10]\n",
    "# numbers = [3, 10]\n",
    "# 5 5\n",
    "# 1 3 5 7 9 \n",
    "# 2 4 8 1 6\n",
    "\n",
    "# 10 10\n",
    "# -5 1 1 3 5 5 8 12 13 16 \n",
    "# 0 3 7 -17 23 11 0 11 15 7 \n",
    "\n",
    "def binary_search(low, high, item):\n",
    "    while low <= high - 1:\n",
    "        mid = (low + high)//2\n",
    "        if arr[mid] == item:\n",
    "            return arr[mid]\n",
    "        if arr[mid] < item:\n",
    "            low = mid + 1\n",
    "        else:\n",
    "            high = mid\n",
    "\n",
    "    if (low == high) & (low > 0):
    "        low -= 1\n",
    "    diff_low = item - arr[low]\n",
    "    diff_high = arr[high] - item\n",
    "    if abs(diff_high) < abs(diff_low):\n",
    "        return arr[high]\n",
    "    return arr[low]\n",
    "    \n",
    "\n",
    "for i in range(len(numbers)):\n",
    "    print(binary_search(0, len(numbers)-1, numbers[i]))\n",
    "    \n",
    "# 1\n",
    "# 3\n",
    "# 8\n",
    "# -5\n",
    "# 16\n",
    "# 12\n",
    "# 1\n",
    "# 12\n",
    "# 16\n",
    "# 8\n",
    "  "
   ]
  },
  {
   "cell_type": "code",
   "execution_count": null,
   "id": "ccff6f3f",
   "metadata": {},
   "outputs": [],
   "source": []
  }
 ],
 "metadata": {
  "kernelspec": {
   "display_name": "Python 3",
   "language": "python",
   "name": "python3"
  },
  "language_info": {
   "codemirror_mode": {
    "name": "ipython",
    "version": 3
   },
   "file_extension": ".py",
   "mimetype": "text/x-python",
   "name": "python",
   "nbconvert_exporter": "python",
   "pygments_lexer": "ipython3",
   "version": "3.8.8"
  }
 },
 "nbformat": 4,
 "nbformat_minor": 5
}
