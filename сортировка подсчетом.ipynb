{
 "cells": [
  {
   "cell_type": "code",
   "execution_count": 20,
   "metadata": {},
   "outputs": [
    {
     "name": "stdout",
     "output_type": "stream",
     "text": [
      "0 0 0 1 1 1 2 2 2 3 3 3 4 4 4 5 5 5 6 6 6 7 7 7 8 8 8 9 9 9 "
     ]
    }
   ],
   "source": [
    "array = [int(x) for x in input().split()]\n",
    "\n",
    "maxElement= max(array)\n",
    "d = dict.fromkeys((range(maxElement + 1)), 0)\n",
    "\n",
    "def count_sort(array):\n",
    "   for i in array:\n",
    "       d[i] += 1\n",
    "\n",
    "count_sort(array)\n",
    "for key, value in d.items():\n",
    "    if value != 0:\n",
    "        for i in range(value):\n",
    "            print(key, end=' ')"
   ]
  },
  {
   "cell_type": "markdown",
   "metadata": {},
   "source": [
    "7 3 4 2 5 7\n",
    "9 8 7 6 5 4 3 2 1 0 9 8 7 6 5 4 3 2 1 0 9 8 7 6 5 4 3 2 1 0\n",
    " 9 8 7 6 5 4 3 2 1 0\n"
   ]
  },
  {
   "cell_type": "code",
   "execution_count": 17,
   "metadata": {},
   "outputs": [
    {
     "name": "stdout",
     "output_type": "stream",
     "text": [
      "0 0 0 1 1 1 2 2 2 3 3 3 4 4 4 5 5 5 6 6 6 7 7 7 8 8 8 9 9 9\n"
     ]
    }
   ],
   "source": [
    "array = [int(x) for x in input().split()]\n",
    "\n",
    "def count_sort(arr):\n",
    "    size = len(arr)\n",
    "    output = [0] * size\n",
    "    count = [0] * 100\n",
    "\n",
    "    for m in range(0, size):\n",
    "        count[arr[m]] += 1\n",
    "\n",
    "    for m in range(1, 100):\n",
    "        count[m] += count[m - 1]\n",
    "    m = size - 1\n",
    "    while m >= 0:\n",
    "        output[count[arr[m]] - 1] = arr[m]\n",
    "        count[arr[m]] -= 1\n",
    "        m -= 1\n",
    "\n",
    "    for m in range(0, size):\n",
    "        arr[m] = output[m]\n",
    "    return arr\n",
    "\n",
    "res = count_sort(array)\n",
    "print(*res)"
   ]
  },
  {
   "cell_type": "code",
   "execution_count": 19,
   "metadata": {},
   "outputs": [
    {
     "name": "stdout",
     "output_type": "stream",
     "text": [
      "0 0 0 1 1 1 2 2 2 3 3 3 4 4 4 5 5 5 6 6 6 7 7 7 8 8 8 9 9 9 "
     ]
    }
   ],
   "source": [
    "array = [int(x) for x in input().split()]\n",
    "\n",
    "def countingSort(inputArray):\n",
    "\n",
    "    maxElement= max(inputArray)\n",
    "\n",
    "    countArrayLength = maxElement+1\n",
    "    countArray = [0] * countArrayLength\n",
    "    for el in inputArray: \n",
    "        countArray[el] += 1\n",
    "\n",
    "    for i in range(1, countArrayLength):\n",
    "        countArray[i] += countArray[i-1] \n",
    "        \n",
    "    outputArray = [0] * len(inputArray)\n",
    "    i = len(inputArray) - 1\n",
    "    while i >= 0:\n",
    "        currentEl = inputArray[i]\n",
    "        countArray[currentEl] -= 1\n",
    "        newPosition = countArray[currentEl]\n",
    "        outputArray[newPosition] = currentEl\n",
    "        i -= 1\n",
    "\n",
    "    return outputArray\n",
    "\n",
    "sortedArray = countingSort(array)\n",
    "for i in sortedArray:\n",
    "    print(i, end =\" \")"
   ]
  }
 ],
 "metadata": {
  "interpreter": {
   "hash": "648f3808473b905b1e6c3a5d82e959190e5c9f33ff585b17150ad0a3352f12e5"
  },
  "kernelspec": {
   "display_name": "Python 3.8.8 64-bit ('base': conda)",
   "language": "python",
   "name": "python3"
  },
  "language_info": {
   "codemirror_mode": {
    "name": "ipython",
    "version": 3
   },
   "file_extension": ".py",
   "mimetype": "text/x-python",
   "name": "python",
   "nbconvert_exporter": "python",
   "pygments_lexer": "ipython3",
   "version": "3.8.8"
  },
  "orig_nbformat": 4
 },
 "nbformat": 4,
 "nbformat_minor": 2
}
