{
 "cells": [
  {
   "cell_type": "code",
   "execution_count": 37,
   "id": "67550d2c",
   "metadata": {},
   "outputs": [
    {
     "name": "stdout",
     "output_type": "stream",
     "text": [
      "192168812\n",
      "125\n",
      "321\n"
     ]
    },
    {
     "ename": "AttributeError",
     "evalue": "'MaxHeap' object has no attribute 'call_without_payload'",
     "output_type": "error",
     "traceback": [
      "\u001b[0;31m---------------------------------------------------------------------------\u001b[0m",
      "\u001b[0;31mAttributeError\u001b[0m                            Traceback (most recent call last)",
      "\u001b[0;32m<ipython-input-37-0ea98afd425e>\u001b[0m in \u001b[0;36m<module>\u001b[0;34m\u001b[0m\n\u001b[1;32m     45\u001b[0m     \u001b[0mcommand\u001b[0m\u001b[0;34m,\u001b[0m \u001b[0;34m*\u001b[0m\u001b[0mpayload\u001b[0m \u001b[0;34m=\u001b[0m \u001b[0mc\u001b[0m\u001b[0;34m.\u001b[0m\u001b[0msplit\u001b[0m\u001b[0;34m(\u001b[0m\u001b[0;34m)\u001b[0m\u001b[0;34m\u001b[0m\u001b[0;34m\u001b[0m\u001b[0m\n\u001b[1;32m     46\u001b[0m     \u001b[0;32mif\u001b[0m \u001b[0mlen\u001b[0m\u001b[0;34m(\u001b[0m\u001b[0mpayload\u001b[0m\u001b[0;34m)\u001b[0m \u001b[0;34m==\u001b[0m \u001b[0;36m0\u001b[0m\u001b[0;34m:\u001b[0m\u001b[0;34m\u001b[0m\u001b[0;34m\u001b[0m\u001b[0m\n\u001b[0;32m---> 47\u001b[0;31m         \u001b[0mmy_heap\u001b[0m\u001b[0;34m.\u001b[0m\u001b[0mcall_without_payload\u001b[0m\u001b[0;34m(\u001b[0m\u001b[0mcommand\u001b[0m\u001b[0;34m)\u001b[0m\u001b[0;34m\u001b[0m\u001b[0;34m\u001b[0m\u001b[0m\n\u001b[0m\u001b[1;32m     48\u001b[0m     \u001b[0;32melse\u001b[0m\u001b[0;34m:\u001b[0m\u001b[0;34m\u001b[0m\u001b[0;34m\u001b[0m\u001b[0m\n\u001b[1;32m     49\u001b[0m         \u001b[0mmy_heap\u001b[0m\u001b[0;34m.\u001b[0m\u001b[0mcall_with_payload\u001b[0m\u001b[0;34m(\u001b[0m\u001b[0mcommand\u001b[0m\u001b[0;34m,\u001b[0m \u001b[0mpayload\u001b[0m\u001b[0;34m[\u001b[0m\u001b[0;36m0\u001b[0m\u001b[0;34m]\u001b[0m\u001b[0;34m)\u001b[0m\u001b[0;34m\u001b[0m\u001b[0;34m\u001b[0m\u001b[0m\n",
      "\u001b[0;31mAttributeError\u001b[0m: 'MaxHeap' object has no attribute 'call_without_payload'"
     ]
    }
   ],
   "source": [
    "# commands = list(map(str, input().splitlines() ))\n",
    "\n",
    "class MaxHeap:\n",
    "    def __init__(self):\n",
    "        self.functions = {\n",
    "            'ADD': self.__add,\n",
    "            'EXTRACT': self.__extract,\n",
    "            'CLEAR': self.__clear,\n",
    "        }\n",
    "        self.h_list = [0]\n",
    "        self.current_size = 0\n",
    "        \n",
    "    def call_me(self, arg):\n",
    "        self.functions[arg]()\n",
    "\n",
    "    def call_with_payload(self, arg, payload):\n",
    "        self.functions[arg](payload)\n",
    "    \n",
    "    def __add(self, k):\n",
    "        print(k)\n",
    "\n",
    "    def __extract(self):\n",
    "        print('extract')\n",
    "\n",
    "    def __clear(self):\n",
    "        print('clear')\n",
    "        \n",
    "my_heap = MaxHeap()\n",
    "\n",
    "data = \"\"\"ADD 192168812\n",
    "ADD 125\n",
    "ADD 321\n",
    "EXTRACT\n",
    "EXTRACT\n",
    "CLEAR\n",
    "ADD 7\n",
    "ADD 555\n",
    "EXTRACT\n",
    "EXTRACT\n",
    "EXTRACT\n",
    "\"\"\"\n",
    "data = data.splitlines()\n",
    "# for c in commands:\n",
    "for c in data:\n",
    "    command, *payload = c.split()\n",
    "    if len(payload) == 0:\n",
    "        my_heap.call_without_payload(command)\n",
    "    else:\n",
    "        my_heap.call_with_payload(command, payload[0])\n",
    "    "
   ]
  },
  {
   "cell_type": "markdown",
   "id": "63bb4c7d",
   "metadata": {},
   "source": [
    "ADD 192168812\n",
    "ADD 125\n",
    "ADD 321\n",
    "EXTRACT\n",
    "EXTRACT\n",
    "CLEAR\n",
    "ADD 7\n",
    "ADD 555\n",
    "EXTRACT\n",
    "EXTRACT\n",
    "EXTRACT\n"
   ]
  },
  {
   "cell_type": "code",
   "execution_count": null,
   "id": "a2313d91",
   "metadata": {},
   "outputs": [],
   "source": []
  }
 ],
 "metadata": {
  "kernelspec": {
   "display_name": "Python 3",
   "language": "python",
   "name": "python3"
  },
  "language_info": {
   "codemirror_mode": {
    "name": "ipython",
    "version": 3
   },
   "file_extension": ".py",
   "mimetype": "text/x-python",
   "name": "python",
   "nbconvert_exporter": "python",
   "pygments_lexer": "ipython3",
   "version": "3.8.8"
  }
 },
 "nbformat": 4,
 "nbformat_minor": 5
}
