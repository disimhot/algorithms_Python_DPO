{
 "cells": [
  {
   "cell_type": "code",
   "execution_count": 2,
   "metadata": {},
   "outputs": [
    {
     "data": {
      "text/plain": [
       "[1, 2, 2, 3, 4]"
      ]
     },
     "execution_count": 2,
     "metadata": {},
     "output_type": "execute_result"
    }
   ],
   "source": [
    "def merge(m1, m2, res):\n",
    "    i = 0\n",
    "    j = 0\n",
    "    res_p = 0\n",
    "    while i < len(m1) and j < len(m2):\n",
    "        if m1[i] < m2[j]:\n",
    "            res[res_p] = m1[i]\n",
    "            res_p += 1\n",
    "            i += 1\n",
    "        else:\n",
    "            res[res_p] = m2[j]\n",
    "            res_p += 1\n",
    "            j += 1\n",
    "    while i < len(m1):\n",
    "        res[res_p] = m1[i]\n",
    "        res_p += 1\n",
    "        i += 1\n",
    "    while j < len(m2):\n",
    "        res[res_p] = m2[j]\n",
    "        res_p += 1\n",
    "        j += 1\n",
    "\n",
    "def merge_sort(inp):\n",
    "    if len(inp) < 2:\n",
    "        return inp\n",
    "    m = len(inp) // 2\n",
    "    left = merge_sort(inp[:m])\n",
    "    right = merge_sort(inp[m:])\n",
    "    merge(left, right, inp)\n",
    "\n",
    "    return inp\n",
    "\n",
    "input = [2, 3, 1, 4, 2]\n",
    "merge_sort(input)"
   ]
  }
 ],
 "metadata": {
  "interpreter": {
   "hash": "648f3808473b905b1e6c3a5d82e959190e5c9f33ff585b17150ad0a3352f12e5"
  },
  "kernelspec": {
   "display_name": "Python 3.8.8 64-bit ('base': conda)",
   "language": "python",
   "name": "python3"
  },
  "language_info": {
   "codemirror_mode": {
    "name": "ipython",
    "version": 3
   },
   "file_extension": ".py",
   "mimetype": "text/x-python",
   "name": "python",
   "nbconvert_exporter": "python",
   "pygments_lexer": "ipython3",
   "version": "3.8.8"
  },
  "orig_nbformat": 4
 },
 "nbformat": 4,
 "nbformat_minor": 2
}
