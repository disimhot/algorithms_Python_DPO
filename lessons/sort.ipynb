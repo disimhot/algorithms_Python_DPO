{
 "cells": [
  {
   "cell_type": "code",
   "execution_count": 16,
   "metadata": {},
   "outputs": [
    {
     "name": "stdout",
     "output_type": "stream",
     "text": [
      "[1, 3, 2, 2, 4]\n"
     ]
    }
   ],
   "source": [
    "input = [2, 3, 1, 4, 2]\n",
    "\n",
    "def make_partition(input, l, r):\n",
    "    m = (r + l) // 2\n",
    "    x = input[m]\n",
    "\n",
    "    l_pointer = l\n",
    "    r_pointer = r\n",
    "    while l_pointer < r_pointer:\n",
    "        while input[l_pointer] < x:\n",
    "            l_pointer += 1\n",
    "        while input[r_pointer] > x:\n",
    "            r_pointer -= 1\n",
    "        input[l_pointer], input[r_pointer] = input[r_pointer], input[l_pointer]\n",
    "        l_pointer += 1\n",
    "        r_pointer -= 1\n",
    "    \n",
    "    return l_pointer -1\n",
    "    \n",
    "\n",
    "def sort (input, l, r):\n",
    "    if l + 1 > r:\n",
    "        return\n",
    "    partition = make_partition(input, l, r)\n",
    "    sort(input, l, partition -1)\n",
    "    sort(input, partition+1, r)\n",
    "\n",
    "sort(input, 0, len(input) - 1)\n",
    "print(input)"
   ]
  },
  {
   "cell_type": "markdown",
   "metadata": {},
   "source": [
    "make_partition вернет индекс, где заканчивается левая половина\n",
    "\n",
    "m надо брать рандомно"
   ]
  }
 ],
 "metadata": {
  "interpreter": {
   "hash": "648f3808473b905b1e6c3a5d82e959190e5c9f33ff585b17150ad0a3352f12e5"
  },
  "kernelspec": {
   "display_name": "Python 3.8.8 64-bit ('base': conda)",
   "language": "python",
   "name": "python3"
  },
  "language_info": {
   "codemirror_mode": {
    "name": "ipython",
    "version": 3
   },
   "file_extension": ".py",
   "mimetype": "text/x-python",
   "name": "python",
   "nbconvert_exporter": "python",
   "pygments_lexer": "ipython3",
   "version": "3.8.8"
  },
  "orig_nbformat": 4
 },
 "nbformat": 4,
 "nbformat_minor": 2
}
